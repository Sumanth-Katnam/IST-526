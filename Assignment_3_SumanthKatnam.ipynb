{
  "cells": [
    {
      "cell_type": "markdown",
      "metadata": {
        "id": "view-in-github",
        "colab_type": "text"
      },
      "source": [
        "<a href=\"https://colab.research.google.com/github/Sumanth-Katnam/IST-526/blob/main/Assignment_3_SumanthKatnam.ipynb\" target=\"_parent\"><img src=\"https://colab.research.google.com/assets/colab-badge.svg\" alt=\"Open In Colab\"/></a>"
      ]
    },
    {
      "cell_type": "markdown",
      "id": "ac2343ea",
      "metadata": {
        "id": "ac2343ea"
      },
      "source": [
        "## 6. Intro to Python and Pandas Dataframe"
      ]
    },
    {
      "cell_type": "markdown",
      "id": "25853304",
      "metadata": {
        "id": "25853304"
      },
      "source": [
        "##### a. Create a list named people that contains 4 integers (e.g., 10, 20, 30, 34)"
      ]
    },
    {
      "cell_type": "code",
      "execution_count": 62,
      "id": "7f390b43",
      "metadata": {
        "id": "7f390b43"
      },
      "outputs": [],
      "source": [
        "people = [10, 20, 30, 40]"
      ]
    },
    {
      "cell_type": "markdown",
      "id": "98b8f62a",
      "metadata": {
        "id": "98b8f62a"
      },
      "source": [
        "##### b. Create a dictionary named node_val that contans 2 keys ('id', 'label') with values 1, and 'Jason', respectively."
      ]
    },
    {
      "cell_type": "code",
      "execution_count": 63,
      "id": "89e5dfe5",
      "metadata": {
        "id": "89e5dfe5"
      },
      "outputs": [],
      "source": [
        "node_val = {\n",
        "    'id' : 1,\n",
        "    'label' : 'Jason'\n",
        "}"
      ]
    },
    {
      "cell_type": "markdown",
      "id": "31eed6cf",
      "metadata": {
        "id": "31eed6cf"
      },
      "source": [
        "##### c. Create another dictionary named edge_val that has two keys (source, and target) where source has value 1 and target has value 2"
      ]
    },
    {
      "cell_type": "code",
      "execution_count": 64,
      "id": "7afc581e",
      "metadata": {
        "id": "7afc581e"
      },
      "outputs": [],
      "source": [
        "edge_val = {\n",
        "    'source' : 1,\n",
        "    'target' : 2\n",
        "}"
      ]
    },
    {
      "cell_type": "markdown",
      "id": "c3cfe35c",
      "metadata": {
        "id": "c3cfe35c"
      },
      "source": [
        "##### d. Create a dictionary named baby_graph that contains two dictionaries with keys 'node' and 'edge' and values node_val and edge_val, respectively."
      ]
    },
    {
      "cell_type": "code",
      "execution_count": 65,
      "id": "31226239",
      "metadata": {
        "id": "31226239"
      },
      "outputs": [],
      "source": [
        "baby_graph = {\n",
        "    'node' : node_val,\n",
        "    'edge' : edge_val\n",
        "}"
      ]
    },
    {
      "cell_type": "markdown",
      "id": "c56e25cf",
      "metadata": {
        "id": "c56e25cf"
      },
      "source": [
        "##### e. Create a list named nodes_vals containing four dictionaries of node_val. You can use random values for each key in individual node_val\n",
        "\n",
        "##### Similarly, create a list named edge_vals containing four dictionaries of edge_val. Use random values of each key in the individual edge_val dictionary.\n",
        "\n",
        "##### Finally, create a dictionary named graph containing two dictionaries with keys 'nodes' and 'edges' and values would node_vals and edge_vals, respectively."
      ]
    },
    {
      "cell_type": "code",
      "execution_count": 66,
      "id": "8abe4e19",
      "metadata": {
        "id": "8abe4e19"
      },
      "outputs": [],
      "source": [
        "node_vals = [\n",
        "    {\n",
        "        'id' : 1,\n",
        "        'label' : 'Jerry'\n",
        "    }, {\n",
        "        'id' : 2,\n",
        "        'label' : 'George'\n",
        "    }, {\n",
        "        'id' : 3,\n",
        "        'label' : 'Elaine'\n",
        "    }, {\n",
        "        'id' : 4,\n",
        "        'label' : 'Kramer'\n",
        "    },\n",
        "]\n",
        "\n",
        "edge_vals = [\n",
        "    {\n",
        "        'source' : 1,\n",
        "        'target' : 2\n",
        "    }, {\n",
        "        'source' : 2,\n",
        "        'target' : 3\n",
        "    }, {\n",
        "        'source' : 3,\n",
        "        'target' : 4\n",
        "    }, {\n",
        "        'source' : 4,\n",
        "        'target' : 1\n",
        "    }, \n",
        "]\n",
        "\n",
        "graph = {\n",
        "    'nodes' : node_vals,\n",
        "    'edges' : edge_vals\n",
        "}"
      ]
    },
    {
      "cell_type": "markdown",
      "id": "de1f3690",
      "metadata": {
        "id": "de1f3690"
      },
      "source": [
        "# 7. Exploratory Data Analysis"
      ]
    },
    {
      "cell_type": "markdown",
      "id": "a59e59c4",
      "metadata": {
        "id": "a59e59c4"
      },
      "source": [
        "### Imports"
      ]
    },
    {
      "cell_type": "code",
      "execution_count": 67,
      "id": "f9ccb0ec",
      "metadata": {
        "id": "f9ccb0ec"
      },
      "outputs": [],
      "source": [
        "import matplotlib.pyplot as plt\n",
        "import seaborn as sns\n",
        "\n",
        "import pandas as pd"
      ]
    },
    {
      "cell_type": "markdown",
      "id": "c2779ea4",
      "metadata": {
        "id": "c2779ea4"
      },
      "source": [
        "### Loading Data"
      ]
    },
    {
      "cell_type": "code",
      "execution_count": 68,
      "id": "7e454a9c",
      "metadata": {
        "colab": {
          "base_uri": "https://localhost:8080/",
          "height": 206
        },
        "id": "7e454a9c",
        "outputId": "11d61e75-b129-42b8-a408-b76bd4f9fbe9"
      },
      "outputs": [
        {
          "output_type": "execute_result",
          "data": {
            "text/html": [
              "\n",
              "  <div id=\"df-b01f1f50-c1ff-4c61-97d5-2401b14a2d57\">\n",
              "    <div class=\"colab-df-container\">\n",
              "      <div>\n",
              "<style scoped>\n",
              "    .dataframe tbody tr th:only-of-type {\n",
              "        vertical-align: middle;\n",
              "    }\n",
              "\n",
              "    .dataframe tbody tr th {\n",
              "        vertical-align: top;\n",
              "    }\n",
              "\n",
              "    .dataframe thead th {\n",
              "        text-align: right;\n",
              "    }\n",
              "</style>\n",
              "<table border=\"1\" class=\"dataframe\">\n",
              "  <thead>\n",
              "    <tr style=\"text-align: right;\">\n",
              "      <th></th>\n",
              "      <th>mcv</th>\n",
              "      <th>alkphos</th>\n",
              "      <th>sgpt</th>\n",
              "      <th>sgot</th>\n",
              "      <th>gammagt</th>\n",
              "      <th>drinks</th>\n",
              "    </tr>\n",
              "  </thead>\n",
              "  <tbody>\n",
              "    <tr>\n",
              "      <th>0</th>\n",
              "      <td>85</td>\n",
              "      <td>92</td>\n",
              "      <td>45</td>\n",
              "      <td>27</td>\n",
              "      <td>31</td>\n",
              "      <td>0.0</td>\n",
              "    </tr>\n",
              "    <tr>\n",
              "      <th>1</th>\n",
              "      <td>85</td>\n",
              "      <td>64</td>\n",
              "      <td>59</td>\n",
              "      <td>32</td>\n",
              "      <td>23</td>\n",
              "      <td>0.0</td>\n",
              "    </tr>\n",
              "    <tr>\n",
              "      <th>2</th>\n",
              "      <td>86</td>\n",
              "      <td>54</td>\n",
              "      <td>33</td>\n",
              "      <td>16</td>\n",
              "      <td>54</td>\n",
              "      <td>0.0</td>\n",
              "    </tr>\n",
              "    <tr>\n",
              "      <th>3</th>\n",
              "      <td>91</td>\n",
              "      <td>78</td>\n",
              "      <td>34</td>\n",
              "      <td>24</td>\n",
              "      <td>36</td>\n",
              "      <td>0.0</td>\n",
              "    </tr>\n",
              "    <tr>\n",
              "      <th>4</th>\n",
              "      <td>87</td>\n",
              "      <td>70</td>\n",
              "      <td>12</td>\n",
              "      <td>28</td>\n",
              "      <td>10</td>\n",
              "      <td>0.0</td>\n",
              "    </tr>\n",
              "  </tbody>\n",
              "</table>\n",
              "</div>\n",
              "      <button class=\"colab-df-convert\" onclick=\"convertToInteractive('df-b01f1f50-c1ff-4c61-97d5-2401b14a2d57')\"\n",
              "              title=\"Convert this dataframe to an interactive table.\"\n",
              "              style=\"display:none;\">\n",
              "        \n",
              "  <svg xmlns=\"http://www.w3.org/2000/svg\" height=\"24px\"viewBox=\"0 0 24 24\"\n",
              "       width=\"24px\">\n",
              "    <path d=\"M0 0h24v24H0V0z\" fill=\"none\"/>\n",
              "    <path d=\"M18.56 5.44l.94 2.06.94-2.06 2.06-.94-2.06-.94-.94-2.06-.94 2.06-2.06.94zm-11 1L8.5 8.5l.94-2.06 2.06-.94-2.06-.94L8.5 2.5l-.94 2.06-2.06.94zm10 10l.94 2.06.94-2.06 2.06-.94-2.06-.94-.94-2.06-.94 2.06-2.06.94z\"/><path d=\"M17.41 7.96l-1.37-1.37c-.4-.4-.92-.59-1.43-.59-.52 0-1.04.2-1.43.59L10.3 9.45l-7.72 7.72c-.78.78-.78 2.05 0 2.83L4 21.41c.39.39.9.59 1.41.59.51 0 1.02-.2 1.41-.59l7.78-7.78 2.81-2.81c.8-.78.8-2.07 0-2.86zM5.41 20L4 18.59l7.72-7.72 1.47 1.35L5.41 20z\"/>\n",
              "  </svg>\n",
              "      </button>\n",
              "      \n",
              "  <style>\n",
              "    .colab-df-container {\n",
              "      display:flex;\n",
              "      flex-wrap:wrap;\n",
              "      gap: 12px;\n",
              "    }\n",
              "\n",
              "    .colab-df-convert {\n",
              "      background-color: #E8F0FE;\n",
              "      border: none;\n",
              "      border-radius: 50%;\n",
              "      cursor: pointer;\n",
              "      display: none;\n",
              "      fill: #1967D2;\n",
              "      height: 32px;\n",
              "      padding: 0 0 0 0;\n",
              "      width: 32px;\n",
              "    }\n",
              "\n",
              "    .colab-df-convert:hover {\n",
              "      background-color: #E2EBFA;\n",
              "      box-shadow: 0px 1px 2px rgba(60, 64, 67, 0.3), 0px 1px 3px 1px rgba(60, 64, 67, 0.15);\n",
              "      fill: #174EA6;\n",
              "    }\n",
              "\n",
              "    [theme=dark] .colab-df-convert {\n",
              "      background-color: #3B4455;\n",
              "      fill: #D2E3FC;\n",
              "    }\n",
              "\n",
              "    [theme=dark] .colab-df-convert:hover {\n",
              "      background-color: #434B5C;\n",
              "      box-shadow: 0px 1px 3px 1px rgba(0, 0, 0, 0.15);\n",
              "      filter: drop-shadow(0px 1px 2px rgba(0, 0, 0, 0.3));\n",
              "      fill: #FFFFFF;\n",
              "    }\n",
              "  </style>\n",
              "\n",
              "      <script>\n",
              "        const buttonEl =\n",
              "          document.querySelector('#df-b01f1f50-c1ff-4c61-97d5-2401b14a2d57 button.colab-df-convert');\n",
              "        buttonEl.style.display =\n",
              "          google.colab.kernel.accessAllowed ? 'block' : 'none';\n",
              "\n",
              "        async function convertToInteractive(key) {\n",
              "          const element = document.querySelector('#df-b01f1f50-c1ff-4c61-97d5-2401b14a2d57');\n",
              "          const dataTable =\n",
              "            await google.colab.kernel.invokeFunction('convertToInteractive',\n",
              "                                                     [key], {});\n",
              "          if (!dataTable) return;\n",
              "\n",
              "          const docLinkHtml = 'Like what you see? Visit the ' +\n",
              "            '<a target=\"_blank\" href=https://colab.research.google.com/notebooks/data_table.ipynb>data table notebook</a>'\n",
              "            + ' to learn more about interactive tables.';\n",
              "          element.innerHTML = '';\n",
              "          dataTable['output_type'] = 'display_data';\n",
              "          await google.colab.output.renderOutput(dataTable, element);\n",
              "          const docLink = document.createElement('div');\n",
              "          docLink.innerHTML = docLinkHtml;\n",
              "          element.appendChild(docLink);\n",
              "        }\n",
              "      </script>\n",
              "    </div>\n",
              "  </div>\n",
              "  "
            ],
            "text/plain": [
              "   mcv  alkphos  sgpt  sgot  gammagt  drinks\n",
              "0   85       92    45    27       31     0.0\n",
              "1   85       64    59    32       23     0.0\n",
              "2   86       54    33    16       54     0.0\n",
              "3   91       78    34    24       36     0.0\n",
              "4   87       70    12    28       10     0.0"
            ]
          },
          "metadata": {},
          "execution_count": 68
        }
      ],
      "source": [
        "url = 'https://raw.githubusercontent.com/smbillah/ist526/main/liver_dataset.csv'\n",
        "\n",
        "# pandas call to read csv file \n",
        "df = pd.read_csv(url)\n",
        "\n",
        "#deleting the unwanted column\n",
        "del df['dummy_label']\n",
        "\n",
        "# quickly show the dataframe\n",
        "df.head()"
      ]
    },
    {
      "cell_type": "markdown",
      "id": "178eedf9",
      "metadata": {
        "id": "178eedf9"
      },
      "source": [
        "### Shape and info of the data"
      ]
    },
    {
      "cell_type": "code",
      "execution_count": 69,
      "id": "a0073009",
      "metadata": {
        "colab": {
          "base_uri": "https://localhost:8080/"
        },
        "id": "a0073009",
        "outputId": "02e22b3d-5b1d-455a-befc-5c2b684f00fd"
      },
      "outputs": [
        {
          "output_type": "stream",
          "name": "stdout",
          "text": [
            "(345, 6)\n",
            "<class 'pandas.core.frame.DataFrame'>\n",
            "RangeIndex: 345 entries, 0 to 344\n",
            "Data columns (total 6 columns):\n",
            " #   Column   Non-Null Count  Dtype  \n",
            "---  ------   --------------  -----  \n",
            " 0   mcv      345 non-null    int64  \n",
            " 1   alkphos  345 non-null    int64  \n",
            " 2   sgpt     345 non-null    int64  \n",
            " 3   sgot     345 non-null    int64  \n",
            " 4   gammagt  345 non-null    int64  \n",
            " 5   drinks   345 non-null    float64\n",
            "dtypes: float64(1), int64(5)\n",
            "memory usage: 16.3 KB\n",
            "None\n"
          ]
        }
      ],
      "source": [
        "print(df.shape)\n",
        "\n",
        "print(df.info())"
      ]
    },
    {
      "cell_type": "markdown",
      "id": "762fa73b",
      "metadata": {
        "id": "762fa73b"
      },
      "source": [
        "##### We can see that there are 6 variables (excluding the 'dummy_label' column) and 345 entries of our data. Also, all of our data values are integers except for the variable 'drinks' that has decimal values. None of these variables have a null value."
      ]
    },
    {
      "cell_type": "markdown",
      "id": "bc467afa",
      "metadata": {
        "id": "bc467afa"
      },
      "source": [
        "### Mean, Median, Standard Deviation etc.,"
      ]
    },
    {
      "cell_type": "code",
      "execution_count": 70,
      "id": "a0c68d35",
      "metadata": {
        "colab": {
          "base_uri": "https://localhost:8080/",
          "height": 300
        },
        "id": "a0c68d35",
        "outputId": "57ff177c-5687-4b4d-f64e-bccf291ae9a1"
      },
      "outputs": [
        {
          "output_type": "execute_result",
          "data": {
            "text/html": [
              "\n",
              "  <div id=\"df-3cdc2dc7-13f7-4f44-bae7-dcb02c381a73\">\n",
              "    <div class=\"colab-df-container\">\n",
              "      <div>\n",
              "<style scoped>\n",
              "    .dataframe tbody tr th:only-of-type {\n",
              "        vertical-align: middle;\n",
              "    }\n",
              "\n",
              "    .dataframe tbody tr th {\n",
              "        vertical-align: top;\n",
              "    }\n",
              "\n",
              "    .dataframe thead th {\n",
              "        text-align: right;\n",
              "    }\n",
              "</style>\n",
              "<table border=\"1\" class=\"dataframe\">\n",
              "  <thead>\n",
              "    <tr style=\"text-align: right;\">\n",
              "      <th></th>\n",
              "      <th>mcv</th>\n",
              "      <th>alkphos</th>\n",
              "      <th>sgpt</th>\n",
              "      <th>sgot</th>\n",
              "      <th>gammagt</th>\n",
              "      <th>drinks</th>\n",
              "    </tr>\n",
              "  </thead>\n",
              "  <tbody>\n",
              "    <tr>\n",
              "      <th>count</th>\n",
              "      <td>345.000000</td>\n",
              "      <td>345.000000</td>\n",
              "      <td>345.000000</td>\n",
              "      <td>345.000000</td>\n",
              "      <td>345.000000</td>\n",
              "      <td>345.000000</td>\n",
              "    </tr>\n",
              "    <tr>\n",
              "      <th>mean</th>\n",
              "      <td>90.159420</td>\n",
              "      <td>69.869565</td>\n",
              "      <td>30.405797</td>\n",
              "      <td>24.643478</td>\n",
              "      <td>38.284058</td>\n",
              "      <td>3.455072</td>\n",
              "    </tr>\n",
              "    <tr>\n",
              "      <th>std</th>\n",
              "      <td>4.448096</td>\n",
              "      <td>18.347670</td>\n",
              "      <td>19.512309</td>\n",
              "      <td>10.064494</td>\n",
              "      <td>39.254616</td>\n",
              "      <td>3.337835</td>\n",
              "    </tr>\n",
              "    <tr>\n",
              "      <th>min</th>\n",
              "      <td>65.000000</td>\n",
              "      <td>23.000000</td>\n",
              "      <td>4.000000</td>\n",
              "      <td>5.000000</td>\n",
              "      <td>5.000000</td>\n",
              "      <td>0.000000</td>\n",
              "    </tr>\n",
              "    <tr>\n",
              "      <th>25%</th>\n",
              "      <td>87.000000</td>\n",
              "      <td>57.000000</td>\n",
              "      <td>19.000000</td>\n",
              "      <td>19.000000</td>\n",
              "      <td>15.000000</td>\n",
              "      <td>0.500000</td>\n",
              "    </tr>\n",
              "    <tr>\n",
              "      <th>50%</th>\n",
              "      <td>90.000000</td>\n",
              "      <td>67.000000</td>\n",
              "      <td>26.000000</td>\n",
              "      <td>23.000000</td>\n",
              "      <td>25.000000</td>\n",
              "      <td>3.000000</td>\n",
              "    </tr>\n",
              "    <tr>\n",
              "      <th>75%</th>\n",
              "      <td>93.000000</td>\n",
              "      <td>80.000000</td>\n",
              "      <td>34.000000</td>\n",
              "      <td>27.000000</td>\n",
              "      <td>46.000000</td>\n",
              "      <td>6.000000</td>\n",
              "    </tr>\n",
              "    <tr>\n",
              "      <th>max</th>\n",
              "      <td>103.000000</td>\n",
              "      <td>138.000000</td>\n",
              "      <td>155.000000</td>\n",
              "      <td>82.000000</td>\n",
              "      <td>297.000000</td>\n",
              "      <td>20.000000</td>\n",
              "    </tr>\n",
              "  </tbody>\n",
              "</table>\n",
              "</div>\n",
              "      <button class=\"colab-df-convert\" onclick=\"convertToInteractive('df-3cdc2dc7-13f7-4f44-bae7-dcb02c381a73')\"\n",
              "              title=\"Convert this dataframe to an interactive table.\"\n",
              "              style=\"display:none;\">\n",
              "        \n",
              "  <svg xmlns=\"http://www.w3.org/2000/svg\" height=\"24px\"viewBox=\"0 0 24 24\"\n",
              "       width=\"24px\">\n",
              "    <path d=\"M0 0h24v24H0V0z\" fill=\"none\"/>\n",
              "    <path d=\"M18.56 5.44l.94 2.06.94-2.06 2.06-.94-2.06-.94-.94-2.06-.94 2.06-2.06.94zm-11 1L8.5 8.5l.94-2.06 2.06-.94-2.06-.94L8.5 2.5l-.94 2.06-2.06.94zm10 10l.94 2.06.94-2.06 2.06-.94-2.06-.94-.94-2.06-.94 2.06-2.06.94z\"/><path d=\"M17.41 7.96l-1.37-1.37c-.4-.4-.92-.59-1.43-.59-.52 0-1.04.2-1.43.59L10.3 9.45l-7.72 7.72c-.78.78-.78 2.05 0 2.83L4 21.41c.39.39.9.59 1.41.59.51 0 1.02-.2 1.41-.59l7.78-7.78 2.81-2.81c.8-.78.8-2.07 0-2.86zM5.41 20L4 18.59l7.72-7.72 1.47 1.35L5.41 20z\"/>\n",
              "  </svg>\n",
              "      </button>\n",
              "      \n",
              "  <style>\n",
              "    .colab-df-container {\n",
              "      display:flex;\n",
              "      flex-wrap:wrap;\n",
              "      gap: 12px;\n",
              "    }\n",
              "\n",
              "    .colab-df-convert {\n",
              "      background-color: #E8F0FE;\n",
              "      border: none;\n",
              "      border-radius: 50%;\n",
              "      cursor: pointer;\n",
              "      display: none;\n",
              "      fill: #1967D2;\n",
              "      height: 32px;\n",
              "      padding: 0 0 0 0;\n",
              "      width: 32px;\n",
              "    }\n",
              "\n",
              "    .colab-df-convert:hover {\n",
              "      background-color: #E2EBFA;\n",
              "      box-shadow: 0px 1px 2px rgba(60, 64, 67, 0.3), 0px 1px 3px 1px rgba(60, 64, 67, 0.15);\n",
              "      fill: #174EA6;\n",
              "    }\n",
              "\n",
              "    [theme=dark] .colab-df-convert {\n",
              "      background-color: #3B4455;\n",
              "      fill: #D2E3FC;\n",
              "    }\n",
              "\n",
              "    [theme=dark] .colab-df-convert:hover {\n",
              "      background-color: #434B5C;\n",
              "      box-shadow: 0px 1px 3px 1px rgba(0, 0, 0, 0.15);\n",
              "      filter: drop-shadow(0px 1px 2px rgba(0, 0, 0, 0.3));\n",
              "      fill: #FFFFFF;\n",
              "    }\n",
              "  </style>\n",
              "\n",
              "      <script>\n",
              "        const buttonEl =\n",
              "          document.querySelector('#df-3cdc2dc7-13f7-4f44-bae7-dcb02c381a73 button.colab-df-convert');\n",
              "        buttonEl.style.display =\n",
              "          google.colab.kernel.accessAllowed ? 'block' : 'none';\n",
              "\n",
              "        async function convertToInteractive(key) {\n",
              "          const element = document.querySelector('#df-3cdc2dc7-13f7-4f44-bae7-dcb02c381a73');\n",
              "          const dataTable =\n",
              "            await google.colab.kernel.invokeFunction('convertToInteractive',\n",
              "                                                     [key], {});\n",
              "          if (!dataTable) return;\n",
              "\n",
              "          const docLinkHtml = 'Like what you see? Visit the ' +\n",
              "            '<a target=\"_blank\" href=https://colab.research.google.com/notebooks/data_table.ipynb>data table notebook</a>'\n",
              "            + ' to learn more about interactive tables.';\n",
              "          element.innerHTML = '';\n",
              "          dataTable['output_type'] = 'display_data';\n",
              "          await google.colab.output.renderOutput(dataTable, element);\n",
              "          const docLink = document.createElement('div');\n",
              "          docLink.innerHTML = docLinkHtml;\n",
              "          element.appendChild(docLink);\n",
              "        }\n",
              "      </script>\n",
              "    </div>\n",
              "  </div>\n",
              "  "
            ],
            "text/plain": [
              "              mcv     alkphos        sgpt        sgot     gammagt      drinks\n",
              "count  345.000000  345.000000  345.000000  345.000000  345.000000  345.000000\n",
              "mean    90.159420   69.869565   30.405797   24.643478   38.284058    3.455072\n",
              "std      4.448096   18.347670   19.512309   10.064494   39.254616    3.337835\n",
              "min     65.000000   23.000000    4.000000    5.000000    5.000000    0.000000\n",
              "25%     87.000000   57.000000   19.000000   19.000000   15.000000    0.500000\n",
              "50%     90.000000   67.000000   26.000000   23.000000   25.000000    3.000000\n",
              "75%     93.000000   80.000000   34.000000   27.000000   46.000000    6.000000\n",
              "max    103.000000  138.000000  155.000000   82.000000  297.000000   20.000000"
            ]
          },
          "metadata": {},
          "execution_count": 70
        }
      ],
      "source": [
        "df.describe()"
      ]
    },
    {
      "cell_type": "markdown",
      "id": "ce561667",
      "metadata": {
        "id": "ce561667"
      },
      "source": [
        "##### The mean of all variables except the 'gammagt' is almost equal to the median of the data that is given by 50% row which means the distribution of values in those variables are symmetrical. \n",
        "##### Also we see a notable difference between the 75th percentile and the max value of all variables which suggests that there are extreme values in our data set."
      ]
    },
    {
      "cell_type": "markdown",
      "id": "80ef93e1",
      "metadata": {
        "id": "80ef93e1"
      },
      "source": [
        "### Ditribution/Histogram"
      ]
    },
    {
      "cell_type": "code",
      "execution_count": 71,
      "id": "56824c9f",
      "metadata": {
        "colab": {
          "base_uri": "https://localhost:8080/",
          "height": 265
        },
        "id": "56824c9f",
        "outputId": "faaa4442-57d2-4a80-cd9b-1ac4cb6c27f4"
      },
      "outputs": [
        {
          "output_type": "display_data",
          "data": {
            "image/png": "[encoded data removed]",
            "text/plain": [
              "<Figure size 432x288 with 1 Axes>"
            ]
          },
          "metadata": {
            "needs_background": "light"
          }
        }
      ],
      "source": [
        "# for all attributes\n",
        "sns.histplot(df, bins = 10)\n",
        "plt.show()"
      ]
    },
    {
      "cell_type": "markdown",
      "id": "3f453612",
      "metadata": {
        "id": "3f453612"
      },
      "source": [
        "##### This plot shows the distribution of values across each variable. We can see that the values of 'drinks' variable are mostly within the range of 0 to 25 which is clear from our prior observation that the mean of this data is 3.455072. Similary, Most values of 'mcv' lies between 85 to 105 (approximately) which is clear from the fact that the mean of this data is 90.159420. Similarly, we can make further observations like this."
      ]
    },
    {
      "cell_type": "markdown",
      "id": "0bf0746f",
      "metadata": {
        "id": "0bf0746f"
      },
      "source": [
        "### Box Plots"
      ]
    },
    {
      "cell_type": "code",
      "execution_count": 72,
      "id": "c8482ca7",
      "metadata": {
        "colab": {
          "base_uri": "https://localhost:8080/",
          "height": 282
        },
        "id": "c8482ca7",
        "outputId": "ac998aef-42c0-4484-aa7c-ddc2a88b664d"
      },
      "outputs": [
        {
          "output_type": "execute_result",
          "data": {
            "text/plain": [
              "<matplotlib.axes._subplots.AxesSubplot at 0x7f0ef37ed0d0>"
            ]
          },
          "metadata": {},
          "execution_count": 72
        },
        {
          "output_type": "display_data",
          "data": {
            "image/png": "[encoded data removed]",
            "text/plain": [
              "<Figure size 432x288 with 1 Axes>"
            ]
          },
          "metadata": {
            "needs_background": "light"
          }
        }
      ],
      "source": [
        "sns.boxplot(data = df)"
      ]
    },
    {
      "cell_type": "markdown",
      "id": "c2f7b54c",
      "metadata": {
        "id": "c2f7b54c"
      },
      "source": [
        "##### In this plot the segment inside the rectangle shows the median and points above and below the box show the locations of the minimum and maximum. From this, we can see that all of our variables have outliers."
      ]
    },
    {
      "cell_type": "markdown",
      "id": "563a1049",
      "metadata": {
        "id": "563a1049"
      },
      "source": [
        "# 8.Principle Component Analysis (PCA)"
      ]
    },
    {
      "cell_type": "code",
      "execution_count": 73,
      "id": "82b99644",
      "metadata": {
        "colab": {
          "base_uri": "https://localhost:8080/",
          "height": 483
        },
        "id": "82b99644",
        "outputId": "340c517f-b339-4ae4-a158-a89047241ee6"
      },
      "outputs": [
        {
          "output_type": "display_data",
          "data": {
            "image/png": "[encoded data removed]",
            "text/plain": [
              "<Figure size 576x576 with 1 Axes>"
            ]
          },
          "metadata": {
            "needs_background": "light"
          }
        }
      ],
      "source": [
        "#Importing PCA \n",
        "from sklearn.decomposition import PCA\n",
        "\n",
        "## create PCA model \n",
        "# We are using the same data frame from the previous question which has the label column dropped\n",
        "pca_model = PCA(n_components=2)\n",
        "reduced_dims = pca_model.fit_transform(df)\n",
        "\n",
        "# adjust figure's width and height\n",
        "plt.figure(figsize=(8,8))\n",
        "\n",
        "## reduced_dims has 2 dimensions (new x, which has index:0; and new y, which has index 1)\n",
        "sns.scatterplot(x = reduced_dims[:, 0], y = reduced_dims[:, 1], alpha=0.9, palette=\"deep\")\n",
        "\n",
        "# if one dimensional, use y as 0\n",
        "# sns.scatterplot(x = reduced_dims[:, 0], y = 0, alpha=0.9, palette=\"deep\")\n",
        "plt.show()"
      ]
    },
    {
      "cell_type": "markdown",
      "id": "49a1338b",
      "metadata": {
        "id": "49a1338b"
      },
      "source": [
        "##### After running the PCA, we see that most of our new data are concentrated around the new origin of the dimensionally reduced axes. Although this data can be considered a cluster, we cannot clusterize the rest of the data as there is no pattern in the way these are spread out."
      ]
    },
    {
      "cell_type": "markdown",
      "id": "1fd9b9ca",
      "metadata": {
        "id": "1fd9b9ca"
      },
      "source": [
        "# 9. Parallel Co-ordinate"
      ]
    },
    {
      "cell_type": "code",
      "execution_count": 74,
      "id": "b671c9a7",
      "metadata": {
        "colab": {
          "base_uri": "https://localhost:8080/",
          "height": 542
        },
        "id": "b671c9a7",
        "outputId": "1fa41b79-f579-40f4-f2c4-3a4da16255c6"
      },
      "outputs": [
        {
          "output_type": "display_data",
          "data": {
            "text/html": [
              "<html>\n",
              "<head><meta charset=\"utf-8\" /></head>\n",
              "<body>\n",
              "    <div>            <script src=\"https://cdnjs.cloudflare.com/ajax/libs/mathjax/2.7.5/MathJax.js?config=TeX-AMS-MML_SVG\"></script><script type=\"text/javascript\">if (window.MathJax) {MathJax.Hub.Config({SVG: {font: \"STIX-Web\"}});}</script>                <script type=\"text/javascript\">window.PlotlyConfig = {MathJaxConfig: 'local'};</script>\n",
              "        <script src=\"https://cdn.plot.ly/plotly-2.8.3.min.js\"></script>                <div id=\"d46e6320-6535-4f16-8984-d5593b0b0bc8\" class=\"plotly-graph-div\" style=\"height:525px; width:100%;\"></div>            <script type=\"text/javascript\">                                    window.PLOTLYENV=window.PLOTLYENV || {};                                    if (document.getElementById(\"d46e6320-6535-4f16-8984-d5593b0b0bc8\")) {                    Plotly.newPlot(                        \"d46e6320-6535-4f16-8984-d5593b0b0bc8\",                        [{\"dimensions\":[{\"label\":\"mcv\",\"values\":[85,85,86,91,87,98,88,88,92,90,89,82,90,86,96,91,89,89,91,94,92,93,90,96,84,92,90,88,91,87,86,91,93,88,94,91,85,79,85,89,84,89,89,86,85,88,92,95,91,83,89,85,92,94,87,85,84,88,96,90,90,90,91,91,87,89,89,85,103,90,90,90,87,90,86,90,87,96,91,95,92,89,91,94,92,94,88,92,92,84,88,86,99,88,89,90,81,89,89,92,85,92,89,90,88,89,91,91,91,88,87,87,87,88,90,86,92,85,89,91,96,79,90,89,88,90,92,91,83,90,92,93,86,97,87,86,87,92,90,99,92,95,91,92,95,90,96,95,92,91,82,92,90,88,100,98,91,92,93,90,97,93,90,92,88,89,92,92,93,97,84,96,90,92,90,97,91,93,92,90,91,92,92,86,98,95,92,97,93,94,87,88,84,94,97,92,82,88,95,88,91,83,91,86,91,89,90,90,89,85,85,78,88,89,92,89,91,94,88,88,84,90,87,65,90,85,88,86,82,86,94,87,98,94,83,93,101,92,92,86,85,86,86,81,91,91,92,91,93,90,87,83,95,93,84,87,86,86,88,90,88,93,98,91,87,94,88,89,87,93,88,94,91,90,91,88,82,85,91,98,86,89,82,83,96,94,93,93,84,91,90,87,91,86,91,88,85,89,95,94,96,90,94,99,93,94,92,87,92,98,92,97,93,93,95,99,98,92,96,95,86,91,102,85,91,91,93,87,98,82,95,97,100,88,91,92,86,91,87,87,99,96,98,91,98]},{\"label\":\"alkphos\",\"values\":[92,64,54,78,70,55,62,67,54,60,52,62,64,77,67,78,67,79,107,116,59,23,60,68,80,70,47,66,102,41,79,57,77,96,65,72,54,39,85,63,92,68,101,84,65,61,56,50,75,40,74,64,57,48,52,65,82,49,67,63,45,72,55,52,71,77,67,51,75,63,63,67,66,73,54,80,90,72,55,78,101,51,99,58,60,58,47,65,79,83,68,48,69,66,62,51,61,89,65,75,59,61,63,84,95,35,80,109,65,107,76,86,42,80,96,67,40,60,90,57,55,101,134,76,93,67,73,55,45,74,66,63,78,44,59,44,64,57,70,59,80,60,63,62,50,76,70,62,62,63,56,82,63,37,60,43,74,87,99,72,93,50,57,76,55,63,79,93,84,71,99,44,62,94,67,71,69,59,95,50,62,93,77,66,57,80,108,92,77,83,75,56,97,91,62,85,48,74,77,94,70,54,105,79,96,82,73,87,82,79,119,69,107,115,67,101,84,101,46,122,88,79,69,63,64,58,81,78,74,58,56,57,74,75,68,56,65,65,58,58,62,57,54,41,67,80,60,60,65,63,92,78,62,59,82,71,44,66,58,61,69,87,58,44,75,91,85,109,59,58,57,65,71,55,64,47,72,58,54,50,62,48,68,70,70,117,45,49,73,63,57,45,68,55,86,46,52,72,59,43,56,52,45,42,102,71,73,54,67,101,53,94,43,68,36,86,66,80,74,93,109,46,82,50,57,52,70,55,123,55,73,80,83,91,138,41,123,93,87,56,75,69,77,68,99]},{\"label\":\"sgpt\",\"values\":[45,59,33,34,12,13,20,21,22,25,13,17,61,25,29,20,23,17,20,11,35,35,23,18,47,24,28,20,17,31,28,31,32,28,22,155,47,14,25,24,68,26,18,18,25,19,14,29,24,29,19,24,64,11,21,23,21,20,26,24,33,14,4,15,32,26,5,26,19,16,29,35,27,34,20,19,43,28,9,27,34,41,42,21,30,21,33,17,22,20,27,20,45,23,42,23,32,23,26,26,25,18,22,18,25,27,37,33,17,29,22,28,26,24,34,11,19,17,15,15,48,17,14,14,29,10,24,28,19,19,21,26,47,113,15,21,16,21,25,17,10,26,25,37,13,37,70,64,20,25,67,27,12,9,29,35,87,57,36,17,21,18,20,31,19,24,70,58,58,29,33,42,22,18,77,29,25,17,85,26,59,22,86,22,31,50,53,22,39,81,25,23,41,27,17,25,27,31,30,26,19,27,40,37,35,23,24,19,33,17,30,24,34,17,23,27,11,41,29,35,28,18,22,19,12,18,41,52,38,36,30,30,148,20,17,25,18,25,14,16,15,13,26,33,32,21,23,32,28,45,21,31,24,41,43,33,24,28,31,28,70,18,33,18,37,30,14,26,37,20,9,38,12,20,21,35,31,83,25,27,29,32,20,17,21,77,11,27,46,17,31,19,14,29,52,15,22,33,23,154,38,10,20,14,47,25,33,41,15,31,51,43,11,24,38,58,103,10,27,21,16,30,34,12,33,76,46,36,28,18,20,17,25,56,45,37,20,35,15,52,26,53,55,27,57]},{\"label\":\"sgot\",\"values\":[27,32,16,24,28,17,17,11,20,19,24,17,32,19,20,31,16,17,20,33,13,20,27,19,33,13,15,21,13,19,16,23,18,21,18,68,33,19,26,20,37,39,25,14,14,21,16,25,22,25,23,22,36,23,19,29,21,22,26,24,34,15,8,22,19,20,17,24,30,21,23,19,22,21,21,14,28,19,25,25,30,22,33,18,27,18,26,25,20,25,21,20,32,12,30,17,37,18,18,26,20,13,27,23,19,29,23,15,5,20,55,23,23,25,49,15,20,21,17,16,39,27,20,21,27,16,21,28,21,14,16,18,39,45,19,11,20,23,23,19,26,22,26,21,14,19,26,42,23,26,38,24,26,15,23,23,50,25,34,19,20,25,26,28,17,29,32,35,47,22,19,23,21,17,39,22,25,20,48,22,47,28,41,24,34,64,33,28,37,34,21,18,20,20,13,20,15,25,14,18,19,15,26,28,22,14,23,25,32,8,26,18,21,27,15,34,12,20,22,29,25,15,26,20,17,24,27,29,28,27,18,30,75,25,20,21,21,20,16,23,13,20,30,27,26,19,15,14,22,24,22,19,23,30,32,20,15,24,17,29,24,17,21,18,19,26,15,25,27,23,15,27,22,20,17,26,20,49,22,25,21,22,22,19,26,56,14,21,32,17,18,13,20,35,47,33,23,27,18,82,26,17,16,21,23,26,34,29,14,26,33,43,16,18,19,42,57,26,25,27,22,24,78,18,23,32,30,19,24,23,25,20,24,35,21,22,25,34,23,43,24,43,35,26,45]},{\"label\":\"gammagt\",\"values\":[31,23,54,36,10,17,9,11,7,5,15,15,13,18,11,18,10,16,56,11,19,20,5,19,97,26,18,10,19,16,17,42,29,40,11,82,22,9,30,38,44,42,13,16,18,13,10,50,11,38,16,11,90,43,30,15,19,19,36,24,27,18,13,11,27,19,14,23,13,14,57,35,9,22,16,42,156,30,16,30,64,48,16,26,297,26,29,9,11,7,26,6,30,15,20,27,53,104,36,24,25,81,10,13,14,17,27,18,7,50,9,21,17,17,169,8,21,14,25,16,42,23,14,24,31,16,48,82,13,22,33,18,107,150,12,15,24,22,112,11,20,28,15,36,15,50,36,76,20,15,92,37,21,16,76,69,67,44,48,19,68,17,33,41,14,29,84,120,62,52,26,73,21,6,114,52,66,14,200,53,60,123,31,26,73,55,94,49,108,201,14,12,32,15,5,12,12,15,21,8,22,12,56,14,135,35,11,19,18,9,17,31,27,7,12,14,10,53,18,42,35,24,11,14,14,16,36,62,48,59,27,22,159,38,71,33,22,31,13,23,22,13,13,34,13,14,19,8,10,85,37,115,14,48,38,22,18,21,17,31,64,26,28,23,70,25,10,27,34,18,16,17,11,16,26,33,84,51,35,53,26,14,9,23,21,52,21,29,39,46,37,16,19,108,52,55,34,55,19,121,23,12,12,49,37,31,115,23,14,32,92,82,54,19,15,203,114,20,43,47,28,39,203,14,12,24,33,25,31,44,225,53,28,126,48,37,23,37,11,55,41,203,89,14,65]},{\"label\":\"drinks\",\"values\":[0.0,0.0,0.0,0.0,0.0,0.0,0.5,0.5,0.5,0.5,0.5,0.5,0.5,0.5,0.5,0.5,0.5,0.5,0.5,0.5,0.5,0.5,0.5,0.5,0.5,0.5,0.5,0.5,0.5,0.5,0.5,0.5,0.5,0.5,0.5,0.5,0.5,0.5,0.5,0.5,0.5,0.5,0.5,0.5,0.5,0.5,0.5,0.5,0.5,0.5,0.5,0.5,0.5,0.5,0.5,0.5,0.5,0.5,0.5,0.5,0.5,0.5,0.5,0.5,1.0,1.0,1.0,1.0,1.0,1.0,2.0,2.0,2.0,2.0,2.0,2.0,2.0,2.0,2.0,2.0,2.0,2.0,2.0,2.0,2.0,2.0,2.0,2.0,3.0,3.0,3.0,3.0,3.0,3.0,3.0,3.0,3.0,3.0,3.0,3.0,3.0,3.0,4.0,4.0,4.0,4.0,4.0,4.0,4.0,4.0,4.0,4.0,4.0,4.0,4.0,4.0,4.0,4.0,4.0,4.0,4.0,4.0,4.0,4.0,4.0,4.0,4.0,4.0,4.0,4.0,5.0,5.0,5.0,5.0,5.0,5.0,5.0,5.0,5.0,5.0,6.0,6.0,6.0,6.0,6.0,6.0,6.0,6.0,6.0,6.0,6.0,6.0,6.0,6.0,6.0,6.0,6.0,6.0,6.0,6.0,6.0,6.0,6.0,6.0,6.0,6.0,7.0,7.0,7.0,8.0,8.0,8.0,8.0,8.0,8.0,8.0,8.0,8.0,8.0,8.0,8.0,9.0,10.0,10.0,10.0,10.0,12.0,12.0,16.0,20.0,0.0,0.0,0.0,0.5,0.5,0.5,0.5,0.5,0.5,0.5,0.5,0.5,0.5,0.5,0.5,0.5,0.5,0.5,0.5,0.5,0.5,0.5,0.5,0.5,0.5,0.5,0.5,0.5,0.5,0.5,0.5,0.5,0.5,0.5,0.5,0.5,0.5,0.5,0.5,0.5,0.5,0.5,0.5,0.5,0.5,0.5,0.5,0.5,0.5,0.5,0.5,0.5,0.5,1.0,1.0,1.0,1.0,1.0,1.0,1.0,1.0,1.0,1.0,1.0,2.0,2.0,2.0,2.0,2.0,2.0,2.0,2.0,2.0,2.0,2.0,2.0,2.0,2.0,2.0,2.0,2.0,3.0,3.0,3.0,3.0,3.0,3.0,3.0,4.0,4.0,4.0,4.0,4.0,4.0,4.0,4.0,4.0,4.0,4.0,4.0,4.0,4.0,4.0,4.0,4.0,4.0,4.0,4.0,4.0,4.0,5.0,5.0,5.0,5.0,5.0,5.0,5.0,6.0,6.0,6.0,6.0,6.0,6.0,6.0,6.0,6.0,6.0,6.0,6.0,6.0,6.0,7.0,7.0,7.0,8.0,8.0,8.0,8.0,8.0,8.0,8.0,8.0,8.0,9.0,10.0,10.0,10.0,10.0,10.0,10.0,12.0,12.0,15.0,16.0,20.0]}],\"domain\":{\"x\":[0.0,1.0],\"y\":[0.0,1.0]},\"name\":\"\",\"type\":\"parcoords\"}],                        {\"template\":{\"data\":{\"bar\":[{\"error_x\":{\"color\":\"#2a3f5f\"},\"error_y\":{\"color\":\"#2a3f5f\"},\"marker\":{\"line\":{\"color\":\"#E5ECF6\",\"width\":0.5},\"pattern\":{\"fillmode\":\"overlay\",\"size\":10,\"solidity\":0.2}},\"type\":\"bar\"}],\"barpolar\":[{\"marker\":{\"line\":{\"color\":\"#E5ECF6\",\"width\":0.5},\"pattern\":{\"fillmode\":\"overlay\",\"size\":10,\"solidity\":0.2}},\"type\":\"barpolar\"}],\"carpet\":[{\"aaxis\":{\"endlinecolor\":\"#2a3f5f\",\"gridcolor\":\"white\",\"linecolor\":\"white\",\"minorgridcolor\":\"white\",\"startlinecolor\":\"#2a3f5f\"},\"baxis\":{\"endlinecolor\":\"#2a3f5f\",\"gridcolor\":\"white\",\"linecolor\":\"white\",\"minorgridcolor\":\"white\",\"startlinecolor\":\"#2a3f5f\"},\"type\":\"carpet\"}],\"choropleth\":[{\"colorbar\":{\"outlinewidth\":0,\"ticks\":\"\"},\"type\":\"choropleth\"}],\"contour\":[{\"colorbar\":{\"outlinewidth\":0,\"ticks\":\"\"},\"colorscale\":[[0.0,\"#0d0887\"],[0.1111111111111111,\"#46039f\"],[0.2222222222222222,\"#7201a8\"],[0.3333333333333333,\"#9c179e\"],[0.4444444444444444,\"#bd3786\"],[0.5555555555555556,\"#d8576b\"],[0.6666666666666666,\"#ed7953\"],[0.7777777777777778,\"#fb9f3a\"],[0.8888888888888888,\"#fdca26\"],[1.0,\"#f0f921\"]],\"type\":\"contour\"}],\"contourcarpet\":[{\"colorbar\":{\"outlinewidth\":0,\"ticks\":\"\"},\"type\":\"contourcarpet\"}],\"heatmap\":[{\"colorbar\":{\"outlinewidth\":0,\"ticks\":\"\"},\"colorscale\":[[0.0,\"#0d0887\"],[0.1111111111111111,\"#46039f\"],[0.2222222222222222,\"#7201a8\"],[0.3333333333333333,\"#9c179e\"],[0.4444444444444444,\"#bd3786\"],[0.5555555555555556,\"#d8576b\"],[0.6666666666666666,\"#ed7953\"],[0.7777777777777778,\"#fb9f3a\"],[0.8888888888888888,\"#fdca26\"],[1.0,\"#f0f921\"]],\"type\":\"heatmap\"}],\"heatmapgl\":[{\"colorbar\":{\"outlinewidth\":0,\"ticks\":\"\"},\"colorscale\":[[0.0,\"#0d0887\"],[0.1111111111111111,\"#46039f\"],[0.2222222222222222,\"#7201a8\"],[0.3333333333333333,\"#9c179e\"],[0.4444444444444444,\"#bd3786\"],[0.5555555555555556,\"#d8576b\"],[0.6666666666666666,\"#ed7953\"],[0.7777777777777778,\"#fb9f3a\"],[0.8888888888888888,\"#fdca26\"],[1.0,\"#f0f921\"]],\"type\":\"heatmapgl\"}],\"histogram\":[{\"marker\":{\"pattern\":{\"fillmode\":\"overlay\",\"size\":10,\"solidity\":0.2}},\"type\":\"histogram\"}],\"histogram2d\":[{\"colorbar\":{\"outlinewidth\":0,\"ticks\":\"\"},\"colorscale\":[[0.0,\"#0d0887\"],[0.1111111111111111,\"#46039f\"],[0.2222222222222222,\"#7201a8\"],[0.3333333333333333,\"#9c179e\"],[0.4444444444444444,\"#bd3786\"],[0.5555555555555556,\"#d8576b\"],[0.6666666666666666,\"#ed7953\"],[0.7777777777777778,\"#fb9f3a\"],[0.8888888888888888,\"#fdca26\"],[1.0,\"#f0f921\"]],\"type\":\"histogram2d\"}],\"histogram2dcontour\":[{\"colorbar\":{\"outlinewidth\":0,\"ticks\":\"\"},\"colorscale\":[[0.0,\"#0d0887\"],[0.1111111111111111,\"#46039f\"],[0.2222222222222222,\"#7201a8\"],[0.3333333333333333,\"#9c179e\"],[0.4444444444444444,\"#bd3786\"],[0.5555555555555556,\"#d8576b\"],[0.6666666666666666,\"#ed7953\"],[0.7777777777777778,\"#fb9f3a\"],[0.8888888888888888,\"#fdca26\"],[1.0,\"#f0f921\"]],\"type\":\"histogram2dcontour\"}],\"mesh3d\":[{\"colorbar\":{\"outlinewidth\":0,\"ticks\":\"\"},\"type\":\"mesh3d\"}],\"parcoords\":[{\"line\":{\"colorbar\":{\"outlinewidth\":0,\"ticks\":\"\"}},\"type\":\"parcoords\"}],\"pie\":[{\"automargin\":true,\"type\":\"pie\"}],\"scatter\":[{\"marker\":{\"colorbar\":{\"outlinewidth\":0,\"ticks\":\"\"}},\"type\":\"scatter\"}],\"scatter3d\":[{\"line\":{\"colorbar\":{\"outlinewidth\":0,\"ticks\":\"\"}},\"marker\":{\"colorbar\":{\"outlinewidth\":0,\"ticks\":\"\"}},\"type\":\"scatter3d\"}],\"scattercarpet\":[{\"marker\":{\"colorbar\":{\"outlinewidth\":0,\"ticks\":\"\"}},\"type\":\"scattercarpet\"}],\"scattergeo\":[{\"marker\":{\"colorbar\":{\"outlinewidth\":0,\"ticks\":\"\"}},\"type\":\"scattergeo\"}],\"scattergl\":[{\"marker\":{\"colorbar\":{\"outlinewidth\":0,\"ticks\":\"\"}},\"type\":\"scattergl\"}],\"scattermapbox\":[{\"marker\":{\"colorbar\":{\"outlinewidth\":0,\"ticks\":\"\"}},\"type\":\"scattermapbox\"}],\"scatterpolar\":[{\"marker\":{\"colorbar\":{\"outlinewidth\":0,\"ticks\":\"\"}},\"type\":\"scatterpolar\"}],\"scatterpolargl\":[{\"marker\":{\"colorbar\":{\"outlinewidth\":0,\"ticks\":\"\"}},\"type\":\"scatterpolargl\"}],\"scatterternary\":[{\"marker\":{\"colorbar\":{\"outlinewidth\":0,\"ticks\":\"\"}},\"type\":\"scatterternary\"}],\"surface\":[{\"colorbar\":{\"outlinewidth\":0,\"ticks\":\"\"},\"colorscale\":[[0.0,\"#0d0887\"],[0.1111111111111111,\"#46039f\"],[0.2222222222222222,\"#7201a8\"],[0.3333333333333333,\"#9c179e\"],[0.4444444444444444,\"#bd3786\"],[0.5555555555555556,\"#d8576b\"],[0.6666666666666666,\"#ed7953\"],[0.7777777777777778,\"#fb9f3a\"],[0.8888888888888888,\"#fdca26\"],[1.0,\"#f0f921\"]],\"type\":\"surface\"}],\"table\":[{\"cells\":{\"fill\":{\"color\":\"#EBF0F8\"},\"line\":{\"color\":\"white\"}},\"header\":{\"fill\":{\"color\":\"#C8D4E3\"},\"line\":{\"color\":\"white\"}},\"type\":\"table\"}]},\"layout\":{\"annotationdefaults\":{\"arrowcolor\":\"#2a3f5f\",\"arrowhead\":0,\"arrowwidth\":1},\"autotypenumbers\":\"strict\",\"coloraxis\":{\"colorbar\":{\"outlinewidth\":0,\"ticks\":\"\"}},\"colorscale\":{\"diverging\":[[0,\"#8e0152\"],[0.1,\"#c51b7d\"],[0.2,\"#de77ae\"],[0.3,\"#f1b6da\"],[0.4,\"#fde0ef\"],[0.5,\"#f7f7f7\"],[0.6,\"#e6f5d0\"],[0.7,\"#b8e186\"],[0.8,\"#7fbc41\"],[0.9,\"#4d9221\"],[1,\"#276419\"]],\"sequential\":[[0.0,\"#0d0887\"],[0.1111111111111111,\"#46039f\"],[0.2222222222222222,\"#7201a8\"],[0.3333333333333333,\"#9c179e\"],[0.4444444444444444,\"#bd3786\"],[0.5555555555555556,\"#d8576b\"],[0.6666666666666666,\"#ed7953\"],[0.7777777777777778,\"#fb9f3a\"],[0.8888888888888888,\"#fdca26\"],[1.0,\"#f0f921\"]],\"sequentialminus\":[[0.0,\"#0d0887\"],[0.1111111111111111,\"#46039f\"],[0.2222222222222222,\"#7201a8\"],[0.3333333333333333,\"#9c179e\"],[0.4444444444444444,\"#bd3786\"],[0.5555555555555556,\"#d8576b\"],[0.6666666666666666,\"#ed7953\"],[0.7777777777777778,\"#fb9f3a\"],[0.8888888888888888,\"#fdca26\"],[1.0,\"#f0f921\"]]},\"colorway\":[\"#636efa\",\"#EF553B\",\"#00cc96\",\"#ab63fa\",\"#FFA15A\",\"#19d3f3\",\"#FF6692\",\"#B6E880\",\"#FF97FF\",\"#FECB52\"],\"font\":{\"color\":\"#2a3f5f\"},\"geo\":{\"bgcolor\":\"white\",\"lakecolor\":\"white\",\"landcolor\":\"#E5ECF6\",\"showlakes\":true,\"showland\":true,\"subunitcolor\":\"white\"},\"hoverlabel\":{\"align\":\"left\"},\"hovermode\":\"closest\",\"mapbox\":{\"style\":\"light\"},\"paper_bgcolor\":\"white\",\"plot_bgcolor\":\"#E5ECF6\",\"polar\":{\"angularaxis\":{\"gridcolor\":\"white\",\"linecolor\":\"white\",\"ticks\":\"\"},\"bgcolor\":\"#E5ECF6\",\"radialaxis\":{\"gridcolor\":\"white\",\"linecolor\":\"white\",\"ticks\":\"\"}},\"scene\":{\"xaxis\":{\"backgroundcolor\":\"#E5ECF6\",\"gridcolor\":\"white\",\"gridwidth\":2,\"linecolor\":\"white\",\"showbackground\":true,\"ticks\":\"\",\"zerolinecolor\":\"white\"},\"yaxis\":{\"backgroundcolor\":\"#E5ECF6\",\"gridcolor\":\"white\",\"gridwidth\":2,\"linecolor\":\"white\",\"showbackground\":true,\"ticks\":\"\",\"zerolinecolor\":\"white\"},\"zaxis\":{\"backgroundcolor\":\"#E5ECF6\",\"gridcolor\":\"white\",\"gridwidth\":2,\"linecolor\":\"white\",\"showbackground\":true,\"ticks\":\"\",\"zerolinecolor\":\"white\"}},\"shapedefaults\":{\"line\":{\"color\":\"#2a3f5f\"}},\"ternary\":{\"aaxis\":{\"gridcolor\":\"white\",\"linecolor\":\"white\",\"ticks\":\"\"},\"baxis\":{\"gridcolor\":\"white\",\"linecolor\":\"white\",\"ticks\":\"\"},\"bgcolor\":\"#E5ECF6\",\"caxis\":{\"gridcolor\":\"white\",\"linecolor\":\"white\",\"ticks\":\"\"}},\"title\":{\"x\":0.05},\"xaxis\":{\"automargin\":true,\"gridcolor\":\"white\",\"linecolor\":\"white\",\"ticks\":\"\",\"title\":{\"standoff\":15},\"zerolinecolor\":\"white\",\"zerolinewidth\":2},\"yaxis\":{\"automargin\":true,\"gridcolor\":\"white\",\"linecolor\":\"white\",\"ticks\":\"\",\"title\":{\"standoff\":15},\"zerolinecolor\":\"white\",\"zerolinewidth\":2}}},\"legend\":{\"tracegroupgap\":0},\"margin\":{\"t\":60}},                        {\"responsive\": true}                    ).then(function(){\n",
              "                            \n",
              "var gd = document.getElementById('d46e6320-6535-4f16-8984-d5593b0b0bc8');\n",
              "var x = new MutationObserver(function (mutations, observer) {{\n",
              "        var display = window.getComputedStyle(gd).display;\n",
              "        if (!display || display === 'none') {{\n",
              "            console.log([gd, 'removed!']);\n",
              "            Plotly.purge(gd);\n",
              "            observer.disconnect();\n",
              "        }}\n",
              "}});\n",
              "\n",
              "// Listen for the removal of the full notebook cells\n",
              "var notebookContainer = gd.closest('#notebook-container');\n",
              "if (notebookContainer) {{\n",
              "    x.observe(notebookContainer, {childList: true});\n",
              "}}\n",
              "\n",
              "// Listen for the clearing of the current output cell\n",
              "var outputEl = gd.closest('.output');\n",
              "if (outputEl) {{\n",
              "    x.observe(outputEl, {childList: true});\n",
              "}}\n",
              "\n",
              "                        })                };                            </script>        </div>\n",
              "</body>\n",
              "</html>"
            ]
          },
          "metadata": {}
        }
      ],
      "source": [
        "#Import from plotly\n",
        "import plotly.express as px\n",
        "\n",
        "# This implementation doesn't need a label to differentiate\n",
        "plot = px.parallel_coordinates(df)\n",
        "plot.show()"
      ]
    },
    {
      "cell_type": "markdown",
      "id": "687348f3",
      "metadata": {
        "id": "687348f3"
      },
      "source": [
        "#####  From this plot, we see that there is almost a positive correlation from 'sgpt' and 'sgot'. There doesn't seem to be any other correlations between other columns. Once we interpret the correlation marix we will get further idea."
      ]
    },
    {
      "cell_type": "markdown",
      "id": "5a693f3c",
      "metadata": {
        "id": "5a693f3c"
      },
      "source": [
        "# 10. Find the correlation matrix using df.corr()."
      ]
    },
    {
      "cell_type": "code",
      "execution_count": 75,
      "id": "d032eac1",
      "metadata": {
        "colab": {
          "base_uri": "https://localhost:8080/",
          "height": 286
        },
        "id": "d032eac1",
        "outputId": "ea450c49-6305-4e6d-a43e-67c0b735f9e3"
      },
      "outputs": [
        {
          "output_type": "execute_result",
          "data": {
            "text/plain": [
              "<matplotlib.axes._subplots.AxesSubplot at 0x7f0ef368b050>"
            ]
          },
          "metadata": {},
          "execution_count": 75
        },
        {
          "output_type": "display_data",
          "data": {
            "image/png": "[encoded data removed]",
            "text/plain": [
              "<Figure size 432x288 with 2 Axes>"
            ]
          },
          "metadata": {
            "needs_background": "light"
          }
        }
      ],
      "source": [
        "# Used heat map here to better identify the correlation values and the relations\n",
        "sns.heatmap(df.corr(), annot=True)"
      ]
    },
    {
      "cell_type": "code",
      "execution_count": 76,
      "id": "d6284d81",
      "metadata": {
        "colab": {
          "base_uri": "https://localhost:8080/",
          "height": 542
        },
        "id": "d6284d81",
        "outputId": "39327298-e69d-478c-a668-4c3ae01a9a69"
      },
      "outputs": [
        {
          "output_type": "display_data",
          "data": {
            "text/html": [
              "<html>\n",
              "<head><meta charset=\"utf-8\" /></head>\n",
              "<body>\n",
              "    <div>            <script src=\"https://cdnjs.cloudflare.com/ajax/libs/mathjax/2.7.5/MathJax.js?config=TeX-AMS-MML_SVG\"></script><script type=\"text/javascript\">if (window.MathJax) {MathJax.Hub.Config({SVG: {font: \"STIX-Web\"}});}</script>                <script type=\"text/javascript\">window.PlotlyConfig = {MathJaxConfig: 'local'};</script>\n",
              "        <script src=\"https://cdn.plot.ly/plotly-2.8.3.min.js\"></script>                <div id=\"5f7256ee-6889-475d-baf0-109ae89a7364\" class=\"plotly-graph-div\" style=\"height:525px; width:100%;\"></div>            <script type=\"text/javascript\">                                    window.PLOTLYENV=window.PLOTLYENV || {};                                    if (document.getElementById(\"5f7256ee-6889-475d-baf0-109ae89a7364\")) {                    Plotly.newPlot(                        \"5f7256ee-6889-475d-baf0-109ae89a7364\",                        [{\"dimensions\":[{\"label\":\"sgpt\",\"values\":[45,59,33,34,12,13,20,21,22,25,13,17,61,25,29,20,23,17,20,11,35,35,23,18,47,24,28,20,17,31,28,31,32,28,22,155,47,14,25,24,68,26,18,18,25,19,14,29,24,29,19,24,64,11,21,23,21,20,26,24,33,14,4,15,32,26,5,26,19,16,29,35,27,34,20,19,43,28,9,27,34,41,42,21,30,21,33,17,22,20,27,20,45,23,42,23,32,23,26,26,25,18,22,18,25,27,37,33,17,29,22,28,26,24,34,11,19,17,15,15,48,17,14,14,29,10,24,28,19,19,21,26,47,113,15,21,16,21,25,17,10,26,25,37,13,37,70,64,20,25,67,27,12,9,29,35,87,57,36,17,21,18,20,31,19,24,70,58,58,29,33,42,22,18,77,29,25,17,85,26,59,22,86,22,31,50,53,22,39,81,25,23,41,27,17,25,27,31,30,26,19,27,40,37,35,23,24,19,33,17,30,24,34,17,23,27,11,41,29,35,28,18,22,19,12,18,41,52,38,36,30,30,148,20,17,25,18,25,14,16,15,13,26,33,32,21,23,32,28,45,21,31,24,41,43,33,24,28,31,28,70,18,33,18,37,30,14,26,37,20,9,38,12,20,21,35,31,83,25,27,29,32,20,17,21,77,11,27,46,17,31,19,14,29,52,15,22,33,23,154,38,10,20,14,47,25,33,41,15,31,51,43,11,24,38,58,103,10,27,21,16,30,34,12,33,76,46,36,28,18,20,17,25,56,45,37,20,35,15,52,26,53,55,27,57]},{\"label\":\"sgot\",\"values\":[27,32,16,24,28,17,17,11,20,19,24,17,32,19,20,31,16,17,20,33,13,20,27,19,33,13,15,21,13,19,16,23,18,21,18,68,33,19,26,20,37,39,25,14,14,21,16,25,22,25,23,22,36,23,19,29,21,22,26,24,34,15,8,22,19,20,17,24,30,21,23,19,22,21,21,14,28,19,25,25,30,22,33,18,27,18,26,25,20,25,21,20,32,12,30,17,37,18,18,26,20,13,27,23,19,29,23,15,5,20,55,23,23,25,49,15,20,21,17,16,39,27,20,21,27,16,21,28,21,14,16,18,39,45,19,11,20,23,23,19,26,22,26,21,14,19,26,42,23,26,38,24,26,15,23,23,50,25,34,19,20,25,26,28,17,29,32,35,47,22,19,23,21,17,39,22,25,20,48,22,47,28,41,24,34,64,33,28,37,34,21,18,20,20,13,20,15,25,14,18,19,15,26,28,22,14,23,25,32,8,26,18,21,27,15,34,12,20,22,29,25,15,26,20,17,24,27,29,28,27,18,30,75,25,20,21,21,20,16,23,13,20,30,27,26,19,15,14,22,24,22,19,23,30,32,20,15,24,17,29,24,17,21,18,19,26,15,25,27,23,15,27,22,20,17,26,20,49,22,25,21,22,22,19,26,56,14,21,32,17,18,13,20,35,47,33,23,27,18,82,26,17,16,21,23,26,34,29,14,26,33,43,16,18,19,42,57,26,25,27,22,24,78,18,23,32,30,19,24,23,25,20,24,35,21,22,25,34,23,43,24,43,35,26,45]},{\"label\":\"gammagt\",\"values\":[31,23,54,36,10,17,9,11,7,5,15,15,13,18,11,18,10,16,56,11,19,20,5,19,97,26,18,10,19,16,17,42,29,40,11,82,22,9,30,38,44,42,13,16,18,13,10,50,11,38,16,11,90,43,30,15,19,19,36,24,27,18,13,11,27,19,14,23,13,14,57,35,9,22,16,42,156,30,16,30,64,48,16,26,297,26,29,9,11,7,26,6,30,15,20,27,53,104,36,24,25,81,10,13,14,17,27,18,7,50,9,21,17,17,169,8,21,14,25,16,42,23,14,24,31,16,48,82,13,22,33,18,107,150,12,15,24,22,112,11,20,28,15,36,15,50,36,76,20,15,92,37,21,16,76,69,67,44,48,19,68,17,33,41,14,29,84,120,62,52,26,73,21,6,114,52,66,14,200,53,60,123,31,26,73,55,94,49,108,201,14,12,32,15,5,12,12,15,21,8,22,12,56,14,135,35,11,19,18,9,17,31,27,7,12,14,10,53,18,42,35,24,11,14,14,16,36,62,48,59,27,22,159,38,71,33,22,31,13,23,22,13,13,34,13,14,19,8,10,85,37,115,14,48,38,22,18,21,17,31,64,26,28,23,70,25,10,27,34,18,16,17,11,16,26,33,84,51,35,53,26,14,9,23,21,52,21,29,39,46,37,16,19,108,52,55,34,55,19,121,23,12,12,49,37,31,115,23,14,32,92,82,54,19,15,203,114,20,43,47,28,39,203,14,12,24,33,25,31,44,225,53,28,126,48,37,23,37,11,55,41,203,89,14,65]},{\"label\":\"drinks\",\"values\":[0.0,0.0,0.0,0.0,0.0,0.0,0.5,0.5,0.5,0.5,0.5,0.5,0.5,0.5,0.5,0.5,0.5,0.5,0.5,0.5,0.5,0.5,0.5,0.5,0.5,0.5,0.5,0.5,0.5,0.5,0.5,0.5,0.5,0.5,0.5,0.5,0.5,0.5,0.5,0.5,0.5,0.5,0.5,0.5,0.5,0.5,0.5,0.5,0.5,0.5,0.5,0.5,0.5,0.5,0.5,0.5,0.5,0.5,0.5,0.5,0.5,0.5,0.5,0.5,1.0,1.0,1.0,1.0,1.0,1.0,2.0,2.0,2.0,2.0,2.0,2.0,2.0,2.0,2.0,2.0,2.0,2.0,2.0,2.0,2.0,2.0,2.0,2.0,3.0,3.0,3.0,3.0,3.0,3.0,3.0,3.0,3.0,3.0,3.0,3.0,3.0,3.0,4.0,4.0,4.0,4.0,4.0,4.0,4.0,4.0,4.0,4.0,4.0,4.0,4.0,4.0,4.0,4.0,4.0,4.0,4.0,4.0,4.0,4.0,4.0,4.0,4.0,4.0,4.0,4.0,5.0,5.0,5.0,5.0,5.0,5.0,5.0,5.0,5.0,5.0,6.0,6.0,6.0,6.0,6.0,6.0,6.0,6.0,6.0,6.0,6.0,6.0,6.0,6.0,6.0,6.0,6.0,6.0,6.0,6.0,6.0,6.0,6.0,6.0,6.0,6.0,7.0,7.0,7.0,8.0,8.0,8.0,8.0,8.0,8.0,8.0,8.0,8.0,8.0,8.0,8.0,9.0,10.0,10.0,10.0,10.0,12.0,12.0,16.0,20.0,0.0,0.0,0.0,0.5,0.5,0.5,0.5,0.5,0.5,0.5,0.5,0.5,0.5,0.5,0.5,0.5,0.5,0.5,0.5,0.5,0.5,0.5,0.5,0.5,0.5,0.5,0.5,0.5,0.5,0.5,0.5,0.5,0.5,0.5,0.5,0.5,0.5,0.5,0.5,0.5,0.5,0.5,0.5,0.5,0.5,0.5,0.5,0.5,0.5,0.5,0.5,0.5,0.5,1.0,1.0,1.0,1.0,1.0,1.0,1.0,1.0,1.0,1.0,1.0,2.0,2.0,2.0,2.0,2.0,2.0,2.0,2.0,2.0,2.0,2.0,2.0,2.0,2.0,2.0,2.0,2.0,3.0,3.0,3.0,3.0,3.0,3.0,3.0,4.0,4.0,4.0,4.0,4.0,4.0,4.0,4.0,4.0,4.0,4.0,4.0,4.0,4.0,4.0,4.0,4.0,4.0,4.0,4.0,4.0,4.0,5.0,5.0,5.0,5.0,5.0,5.0,5.0,6.0,6.0,6.0,6.0,6.0,6.0,6.0,6.0,6.0,6.0,6.0,6.0,6.0,6.0,7.0,7.0,7.0,8.0,8.0,8.0,8.0,8.0,8.0,8.0,8.0,8.0,9.0,10.0,10.0,10.0,10.0,10.0,10.0,12.0,12.0,15.0,16.0,20.0]},{\"label\":\"mcv\",\"values\":[85,85,86,91,87,98,88,88,92,90,89,82,90,86,96,91,89,89,91,94,92,93,90,96,84,92,90,88,91,87,86,91,93,88,94,91,85,79,85,89,84,89,89,86,85,88,92,95,91,83,89,85,92,94,87,85,84,88,96,90,90,90,91,91,87,89,89,85,103,90,90,90,87,90,86,90,87,96,91,95,92,89,91,94,92,94,88,92,92,84,88,86,99,88,89,90,81,89,89,92,85,92,89,90,88,89,91,91,91,88,87,87,87,88,90,86,92,85,89,91,96,79,90,89,88,90,92,91,83,90,92,93,86,97,87,86,87,92,90,99,92,95,91,92,95,90,96,95,92,91,82,92,90,88,100,98,91,92,93,90,97,93,90,92,88,89,92,92,93,97,84,96,90,92,90,97,91,93,92,90,91,92,92,86,98,95,92,97,93,94,87,88,84,94,97,92,82,88,95,88,91,83,91,86,91,89,90,90,89,85,85,78,88,89,92,89,91,94,88,88,84,90,87,65,90,85,88,86,82,86,94,87,98,94,83,93,101,92,92,86,85,86,86,81,91,91,92,91,93,90,87,83,95,93,84,87,86,86,88,90,88,93,98,91,87,94,88,89,87,93,88,94,91,90,91,88,82,85,91,98,86,89,82,83,96,94,93,93,84,91,90,87,91,86,91,88,85,89,95,94,96,90,94,99,93,94,92,87,92,98,92,97,93,93,95,99,98,92,96,95,86,91,102,85,91,91,93,87,98,82,95,97,100,88,91,92,86,91,87,87,99,96,98,91,98]},{\"label\":\"alkphos\",\"values\":[92,64,54,78,70,55,62,67,54,60,52,62,64,77,67,78,67,79,107,116,59,23,60,68,80,70,47,66,102,41,79,57,77,96,65,72,54,39,85,63,92,68,101,84,65,61,56,50,75,40,74,64,57,48,52,65,82,49,67,63,45,72,55,52,71,77,67,51,75,63,63,67,66,73,54,80,90,72,55,78,101,51,99,58,60,58,47,65,79,83,68,48,69,66,62,51,61,89,65,75,59,61,63,84,95,35,80,109,65,107,76,86,42,80,96,67,40,60,90,57,55,101,134,76,93,67,73,55,45,74,66,63,78,44,59,44,64,57,70,59,80,60,63,62,50,76,70,62,62,63,56,82,63,37,60,43,74,87,99,72,93,50,57,76,55,63,79,93,84,71,99,44,62,94,67,71,69,59,95,50,62,93,77,66,57,80,108,92,77,83,75,56,97,91,62,85,48,74,77,94,70,54,105,79,96,82,73,87,82,79,119,69,107,115,67,101,84,101,46,122,88,79,69,63,64,58,81,78,74,58,56,57,74,75,68,56,65,65,58,58,62,57,54,41,67,80,60,60,65,63,92,78,62,59,82,71,44,66,58,61,69,87,58,44,75,91,85,109,59,58,57,65,71,55,64,47,72,58,54,50,62,48,68,70,70,117,45,49,73,63,57,45,68,55,86,46,52,72,59,43,56,52,45,42,102,71,73,54,67,101,53,94,43,68,36,86,66,80,74,93,109,46,82,50,57,52,70,55,123,55,73,80,83,91,138,41,123,93,87,56,75,69,77,68,99]}],\"domain\":{\"x\":[0.0,1.0],\"y\":[0.0,1.0]},\"name\":\"\",\"type\":\"parcoords\"}],                        {\"template\":{\"data\":{\"bar\":[{\"error_x\":{\"color\":\"#2a3f5f\"},\"error_y\":{\"color\":\"#2a3f5f\"},\"marker\":{\"line\":{\"color\":\"#E5ECF6\",\"width\":0.5},\"pattern\":{\"fillmode\":\"overlay\",\"size\":10,\"solidity\":0.2}},\"type\":\"bar\"}],\"barpolar\":[{\"marker\":{\"line\":{\"color\":\"#E5ECF6\",\"width\":0.5},\"pattern\":{\"fillmode\":\"overlay\",\"size\":10,\"solidity\":0.2}},\"type\":\"barpolar\"}],\"carpet\":[{\"aaxis\":{\"endlinecolor\":\"#2a3f5f\",\"gridcolor\":\"white\",\"linecolor\":\"white\",\"minorgridcolor\":\"white\",\"startlinecolor\":\"#2a3f5f\"},\"baxis\":{\"endlinecolor\":\"#2a3f5f\",\"gridcolor\":\"white\",\"linecolor\":\"white\",\"minorgridcolor\":\"white\",\"startlinecolor\":\"#2a3f5f\"},\"type\":\"carpet\"}],\"choropleth\":[{\"colorbar\":{\"outlinewidth\":0,\"ticks\":\"\"},\"type\":\"choropleth\"}],\"contour\":[{\"colorbar\":{\"outlinewidth\":0,\"ticks\":\"\"},\"colorscale\":[[0.0,\"#0d0887\"],[0.1111111111111111,\"#46039f\"],[0.2222222222222222,\"#7201a8\"],[0.3333333333333333,\"#9c179e\"],[0.4444444444444444,\"#bd3786\"],[0.5555555555555556,\"#d8576b\"],[0.6666666666666666,\"#ed7953\"],[0.7777777777777778,\"#fb9f3a\"],[0.8888888888888888,\"#fdca26\"],[1.0,\"#f0f921\"]],\"type\":\"contour\"}],\"contourcarpet\":[{\"colorbar\":{\"outlinewidth\":0,\"ticks\":\"\"},\"type\":\"contourcarpet\"}],\"heatmap\":[{\"colorbar\":{\"outlinewidth\":0,\"ticks\":\"\"},\"colorscale\":[[0.0,\"#0d0887\"],[0.1111111111111111,\"#46039f\"],[0.2222222222222222,\"#7201a8\"],[0.3333333333333333,\"#9c179e\"],[0.4444444444444444,\"#bd3786\"],[0.5555555555555556,\"#d8576b\"],[0.6666666666666666,\"#ed7953\"],[0.7777777777777778,\"#fb9f3a\"],[0.8888888888888888,\"#fdca26\"],[1.0,\"#f0f921\"]],\"type\":\"heatmap\"}],\"heatmapgl\":[{\"colorbar\":{\"outlinewidth\":0,\"ticks\":\"\"},\"colorscale\":[[0.0,\"#0d0887\"],[0.1111111111111111,\"#46039f\"],[0.2222222222222222,\"#7201a8\"],[0.3333333333333333,\"#9c179e\"],[0.4444444444444444,\"#bd3786\"],[0.5555555555555556,\"#d8576b\"],[0.6666666666666666,\"#ed7953\"],[0.7777777777777778,\"#fb9f3a\"],[0.8888888888888888,\"#fdca26\"],[1.0,\"#f0f921\"]],\"type\":\"heatmapgl\"}],\"histogram\":[{\"marker\":{\"pattern\":{\"fillmode\":\"overlay\",\"size\":10,\"solidity\":0.2}},\"type\":\"histogram\"}],\"histogram2d\":[{\"colorbar\":{\"outlinewidth\":0,\"ticks\":\"\"},\"colorscale\":[[0.0,\"#0d0887\"],[0.1111111111111111,\"#46039f\"],[0.2222222222222222,\"#7201a8\"],[0.3333333333333333,\"#9c179e\"],[0.4444444444444444,\"#bd3786\"],[0.5555555555555556,\"#d8576b\"],[0.6666666666666666,\"#ed7953\"],[0.7777777777777778,\"#fb9f3a\"],[0.8888888888888888,\"#fdca26\"],[1.0,\"#f0f921\"]],\"type\":\"histogram2d\"}],\"histogram2dcontour\":[{\"colorbar\":{\"outlinewidth\":0,\"ticks\":\"\"},\"colorscale\":[[0.0,\"#0d0887\"],[0.1111111111111111,\"#46039f\"],[0.2222222222222222,\"#7201a8\"],[0.3333333333333333,\"#9c179e\"],[0.4444444444444444,\"#bd3786\"],[0.5555555555555556,\"#d8576b\"],[0.6666666666666666,\"#ed7953\"],[0.7777777777777778,\"#fb9f3a\"],[0.8888888888888888,\"#fdca26\"],[1.0,\"#f0f921\"]],\"type\":\"histogram2dcontour\"}],\"mesh3d\":[{\"colorbar\":{\"outlinewidth\":0,\"ticks\":\"\"},\"type\":\"mesh3d\"}],\"parcoords\":[{\"line\":{\"colorbar\":{\"outlinewidth\":0,\"ticks\":\"\"}},\"type\":\"parcoords\"}],\"pie\":[{\"automargin\":true,\"type\":\"pie\"}],\"scatter\":[{\"marker\":{\"colorbar\":{\"outlinewidth\":0,\"ticks\":\"\"}},\"type\":\"scatter\"}],\"scatter3d\":[{\"line\":{\"colorbar\":{\"outlinewidth\":0,\"ticks\":\"\"}},\"marker\":{\"colorbar\":{\"outlinewidth\":0,\"ticks\":\"\"}},\"type\":\"scatter3d\"}],\"scattercarpet\":[{\"marker\":{\"colorbar\":{\"outlinewidth\":0,\"ticks\":\"\"}},\"type\":\"scattercarpet\"}],\"scattergeo\":[{\"marker\":{\"colorbar\":{\"outlinewidth\":0,\"ticks\":\"\"}},\"type\":\"scattergeo\"}],\"scattergl\":[{\"marker\":{\"colorbar\":{\"outlinewidth\":0,\"ticks\":\"\"}},\"type\":\"scattergl\"}],\"scattermapbox\":[{\"marker\":{\"colorbar\":{\"outlinewidth\":0,\"ticks\":\"\"}},\"type\":\"scattermapbox\"}],\"scatterpolar\":[{\"marker\":{\"colorbar\":{\"outlinewidth\":0,\"ticks\":\"\"}},\"type\":\"scatterpolar\"}],\"scatterpolargl\":[{\"marker\":{\"colorbar\":{\"outlinewidth\":0,\"ticks\":\"\"}},\"type\":\"scatterpolargl\"}],\"scatterternary\":[{\"marker\":{\"colorbar\":{\"outlinewidth\":0,\"ticks\":\"\"}},\"type\":\"scatterternary\"}],\"surface\":[{\"colorbar\":{\"outlinewidth\":0,\"ticks\":\"\"},\"colorscale\":[[0.0,\"#0d0887\"],[0.1111111111111111,\"#46039f\"],[0.2222222222222222,\"#7201a8\"],[0.3333333333333333,\"#9c179e\"],[0.4444444444444444,\"#bd3786\"],[0.5555555555555556,\"#d8576b\"],[0.6666666666666666,\"#ed7953\"],[0.7777777777777778,\"#fb9f3a\"],[0.8888888888888888,\"#fdca26\"],[1.0,\"#f0f921\"]],\"type\":\"surface\"}],\"table\":[{\"cells\":{\"fill\":{\"color\":\"#EBF0F8\"},\"line\":{\"color\":\"white\"}},\"header\":{\"fill\":{\"color\":\"#C8D4E3\"},\"line\":{\"color\":\"white\"}},\"type\":\"table\"}]},\"layout\":{\"annotationdefaults\":{\"arrowcolor\":\"#2a3f5f\",\"arrowhead\":0,\"arrowwidth\":1},\"autotypenumbers\":\"strict\",\"coloraxis\":{\"colorbar\":{\"outlinewidth\":0,\"ticks\":\"\"}},\"colorscale\":{\"diverging\":[[0,\"#8e0152\"],[0.1,\"#c51b7d\"],[0.2,\"#de77ae\"],[0.3,\"#f1b6da\"],[0.4,\"#fde0ef\"],[0.5,\"#f7f7f7\"],[0.6,\"#e6f5d0\"],[0.7,\"#b8e186\"],[0.8,\"#7fbc41\"],[0.9,\"#4d9221\"],[1,\"#276419\"]],\"sequential\":[[0.0,\"#0d0887\"],[0.1111111111111111,\"#46039f\"],[0.2222222222222222,\"#7201a8\"],[0.3333333333333333,\"#9c179e\"],[0.4444444444444444,\"#bd3786\"],[0.5555555555555556,\"#d8576b\"],[0.6666666666666666,\"#ed7953\"],[0.7777777777777778,\"#fb9f3a\"],[0.8888888888888888,\"#fdca26\"],[1.0,\"#f0f921\"]],\"sequentialminus\":[[0.0,\"#0d0887\"],[0.1111111111111111,\"#46039f\"],[0.2222222222222222,\"#7201a8\"],[0.3333333333333333,\"#9c179e\"],[0.4444444444444444,\"#bd3786\"],[0.5555555555555556,\"#d8576b\"],[0.6666666666666666,\"#ed7953\"],[0.7777777777777778,\"#fb9f3a\"],[0.8888888888888888,\"#fdca26\"],[1.0,\"#f0f921\"]]},\"colorway\":[\"#636efa\",\"#EF553B\",\"#00cc96\",\"#ab63fa\",\"#FFA15A\",\"#19d3f3\",\"#FF6692\",\"#B6E880\",\"#FF97FF\",\"#FECB52\"],\"font\":{\"color\":\"#2a3f5f\"},\"geo\":{\"bgcolor\":\"white\",\"lakecolor\":\"white\",\"landcolor\":\"#E5ECF6\",\"showlakes\":true,\"showland\":true,\"subunitcolor\":\"white\"},\"hoverlabel\":{\"align\":\"left\"},\"hovermode\":\"closest\",\"mapbox\":{\"style\":\"light\"},\"paper_bgcolor\":\"white\",\"plot_bgcolor\":\"#E5ECF6\",\"polar\":{\"angularaxis\":{\"gridcolor\":\"white\",\"linecolor\":\"white\",\"ticks\":\"\"},\"bgcolor\":\"#E5ECF6\",\"radialaxis\":{\"gridcolor\":\"white\",\"linecolor\":\"white\",\"ticks\":\"\"}},\"scene\":{\"xaxis\":{\"backgroundcolor\":\"#E5ECF6\",\"gridcolor\":\"white\",\"gridwidth\":2,\"linecolor\":\"white\",\"showbackground\":true,\"ticks\":\"\",\"zerolinecolor\":\"white\"},\"yaxis\":{\"backgroundcolor\":\"#E5ECF6\",\"gridcolor\":\"white\",\"gridwidth\":2,\"linecolor\":\"white\",\"showbackground\":true,\"ticks\":\"\",\"zerolinecolor\":\"white\"},\"zaxis\":{\"backgroundcolor\":\"#E5ECF6\",\"gridcolor\":\"white\",\"gridwidth\":2,\"linecolor\":\"white\",\"showbackground\":true,\"ticks\":\"\",\"zerolinecolor\":\"white\"}},\"shapedefaults\":{\"line\":{\"color\":\"#2a3f5f\"}},\"ternary\":{\"aaxis\":{\"gridcolor\":\"white\",\"linecolor\":\"white\",\"ticks\":\"\"},\"baxis\":{\"gridcolor\":\"white\",\"linecolor\":\"white\",\"ticks\":\"\"},\"bgcolor\":\"#E5ECF6\",\"caxis\":{\"gridcolor\":\"white\",\"linecolor\":\"white\",\"ticks\":\"\"}},\"title\":{\"x\":0.05},\"xaxis\":{\"automargin\":true,\"gridcolor\":\"white\",\"linecolor\":\"white\",\"ticks\":\"\",\"title\":{\"standoff\":15},\"zerolinecolor\":\"white\",\"zerolinewidth\":2},\"yaxis\":{\"automargin\":true,\"gridcolor\":\"white\",\"linecolor\":\"white\",\"ticks\":\"\",\"title\":{\"standoff\":15},\"zerolinecolor\":\"white\",\"zerolinewidth\":2}}},\"legend\":{\"tracegroupgap\":0},\"margin\":{\"t\":60}},                        {\"responsive\": true}                    ).then(function(){\n",
              "                            \n",
              "var gd = document.getElementById('5f7256ee-6889-475d-baf0-109ae89a7364');\n",
              "var x = new MutationObserver(function (mutations, observer) {{\n",
              "        var display = window.getComputedStyle(gd).display;\n",
              "        if (!display || display === 'none') {{\n",
              "            console.log([gd, 'removed!']);\n",
              "            Plotly.purge(gd);\n",
              "            observer.disconnect();\n",
              "        }}\n",
              "}});\n",
              "\n",
              "// Listen for the removal of the full notebook cells\n",
              "var notebookContainer = gd.closest('#notebook-container');\n",
              "if (notebookContainer) {{\n",
              "    x.observe(notebookContainer, {childList: true});\n",
              "}}\n",
              "\n",
              "// Listen for the clearing of the current output cell\n",
              "var outputEl = gd.closest('.output');\n",
              "if (outputEl) {{\n",
              "    x.observe(outputEl, {childList: true});\n",
              "}}\n",
              "\n",
              "                        })                };                            </script>        </div>\n",
              "</body>\n",
              "</html>"
            ]
          },
          "metadata": {}
        }
      ],
      "source": [
        "#Using the information above, rearranging the order of columns in the parallel coordinates graph.\n",
        "new_col_order = ['sgpt', 'sgot', 'gammagt', 'drinks', 'mcv', 'alkphos']\n",
        "\n",
        "# changing the column order\n",
        "df_new = df[new_col_order]\n",
        "\n",
        "plot2 = px.parallel_coordinates(df_new)\n",
        "plot2.show()\n"
      ]
    }
  ],
  "metadata": {
    "kernelspec": {
      "display_name": "Python 3 (ipykernel)",
      "language": "python",
      "name": "python3"
    },
    "language_info": {
      "codemirror_mode": {
        "name": "ipython",
        "version": 3
      },
      "file_extension": ".py",
      "mimetype": "text/x-python",
      "name": "python",
      "nbconvert_exporter": "python",
      "pygments_lexer": "ipython3",
      "version": "3.9.7"
    },
    "colab": {
      "name": "Assignment 3_SumanthKatnam.ipynb",
      "provenance": [],
      "collapsed_sections": [],
      "include_colab_link": true
    }
  },
  "nbformat": 4,
  "nbformat_minor": 5
}